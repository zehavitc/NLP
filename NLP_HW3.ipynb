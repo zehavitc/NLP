{
  "nbformat": 4,
  "nbformat_minor": 0,
  "metadata": {
    "colab": {
      "name": "NLP_HW3.ipynb",
      "version": "0.3.2",
      "provenance": [],
      "include_colab_link": true
    },
    "kernelspec": {
      "name": "python3",
      "display_name": "Python 3"
    }
  },
  "cells": [
    {
      "cell_type": "markdown",
      "metadata": {
        "id": "view-in-github",
        "colab_type": "text"
      },
      "source": [
        "<a href=\"https://colab.research.google.com/github/zehavitc/NLP/blob/master/NLP_HW3.ipynb\" target=\"_parent\"><img src=\"https://colab.research.google.com/assets/colab-badge.svg\" alt=\"Open In Colab\"/></a>"
      ]
    },
    {
      "cell_type": "markdown",
      "metadata": {
        "id": "NQIsj6P9tf_O",
        "colab_type": "text"
      },
      "source": [
        "**HW3**\n",
        "\n",
        "Matan Sabag 301388567\n",
        "\n",
        "Zehavit Leibovich 305226391"
      ]
    },
    {
      "cell_type": "markdown",
      "metadata": {
        "id": "kD_0Qdm7tV3O",
        "colab_type": "text"
      },
      "source": [
        "Part 1"
      ]
    },
    {
      "cell_type": "code",
      "metadata": {
        "id": "yvOtx_rcnRQb",
        "colab_type": "code",
        "colab": {}
      },
      "source": [
        "# imports\n",
        "\n",
        "import matplotlib.pyplot as plt\n",
        "import numpy as np\n",
        "from gensim.models import Word2Vec\n",
        "import gensim.downloader as api"
      ],
      "execution_count": 0,
      "outputs": []
    },
    {
      "cell_type": "code",
      "metadata": {
        "id": "y0JTWnYVn0RK",
        "colab_type": "code",
        "colab": {}
      },
      "source": [
        "def load(model_name):\n",
        "  '''\n",
        "  Downloading and loading model into memory, as a dictionary of arrays, the keys are the words.\n",
        "  '''\n",
        "  wv_from_bin = api.load(model_name)\n",
        "  vocab = list(wv_from_bin.vocab.keys())\n",
        "  print(\"Loaded vocab size %i\" % len(vocab))\n",
        "  return wv_from_bin\n",
        "  "
      ],
      "execution_count": 0,
      "outputs": []
    },
    {
      "cell_type": "markdown",
      "metadata": {
        "id": "BWN9aZvmtb_0",
        "colab_type": "text"
      },
      "source": [
        "Part 2 "
      ]
    },
    {
      "cell_type": "code",
      "metadata": {
        "id": "MAMpGfJaoTm8",
        "colab_type": "code",
        "colab": {
          "base_uri": "https://localhost:8080/",
          "height": 34
        },
        "outputId": "d90d9575-10bb-4931-c506-170697404a6d"
      },
      "source": [
        "from google.colab import drive\n",
        "drive.mount('/content/drive')"
      ],
      "execution_count": 4,
      "outputs": [
        {
          "output_type": "stream",
          "text": [
            "Drive already mounted at /content/drive; to attempt to forcibly remount, call drive.mount(\"/content/drive\", force_remount=True).\n"
          ],
          "name": "stdout"
        }
      ]
    },
    {
      "cell_type": "code",
      "metadata": {
        "id": "sGToqX4Kp9sc",
        "colab_type": "code",
        "colab": {}
      },
      "source": [
        "analogy_file_path = \"/content/drive/My Drive/NLP/HW3/analogy.txt\""
      ],
      "execution_count": 0,
      "outputs": []
    },
    {
      "cell_type": "code",
      "metadata": {
        "id": "3wn5z0w_xSlK",
        "colab_type": "code",
        "colab": {
          "base_uri": "https://localhost:8080/",
          "height": 357
        },
        "outputId": "797ad306-762d-4461-ddc1-c05cf0603bba"
      },
      "source": [
        "from gensim.test.utils import datapath\n",
        "import pandas as pd\n",
        "import gc\n",
        "\n",
        "\n",
        "groups_names = [\"capital-world\", \"currency\", \"city-in-state\", \"family\", \"gram1-adjective-to-adverb\", \"gram2-opposite\", \"gram3-comparative\", \"gram6-nationality-adjective\"]\n",
        "models_names = [\"glove-wiki-gigaword-300\",\"glove-wiki-gigaword-50\",\"word2vec-google-news-300\", \"glove-twitter-200\", \"fasttext-wiki-news-subwords-300\"]\n",
        "\n",
        "results = pd.DataFrame(columns = groups_names + [\"Overall\"])\n",
        "for model_name in models_names:\n",
        "  model = load(model_name)\n",
        "  analogy_score, sections = model.wv.evaluate_word_analogies(datapath(analogy_file_path))\n",
        "  results.loc[model_name, \"Overall\"] = analogy_score\n",
        "  for section in sections:\n",
        "    group_name = section['section']\n",
        "    if group_name in groups_names:\n",
        "      results.loc[model_name, group_name] =  len(section['correct']) / (len(section['correct']) + len(section['incorrect']))\n",
        "  del model\n",
        "  gc.collect()\n",
        "  \n",
        "results\n",
        "  "
      ],
      "execution_count": 7,
      "outputs": [
        {
          "output_type": "stream",
          "text": [
            "Loaded vocab size 400000\n"
          ],
          "name": "stdout"
        },
        {
          "output_type": "stream",
          "text": [
            "/usr/local/lib/python3.6/dist-packages/ipykernel_launcher.py:12: DeprecationWarning: Call to deprecated `wv` (Attribute will be removed in 4.0.0, use self instead).\n",
            "  if sys.path[0] == '':\n",
            "/usr/local/lib/python3.6/dist-packages/gensim/matutils.py:737: FutureWarning: Conversion of the second argument of issubdtype from `int` to `np.signedinteger` is deprecated. In future, it will be treated as `np.int64 == np.dtype(int).type`.\n",
            "  if np.issubdtype(vec.dtype, np.int):\n"
          ],
          "name": "stderr"
        },
        {
          "output_type": "stream",
          "text": [
            "Loaded vocab size 400000\n",
            "Loaded vocab size 3000000\n",
            "Loaded vocab size 1193514\n",
            "Loaded vocab size 999999\n"
          ],
          "name": "stdout"
        },
        {
          "output_type": "execute_result",
          "data": {
            "text/html": [
              "<div>\n",
              "<style scoped>\n",
              "    .dataframe tbody tr th:only-of-type {\n",
              "        vertical-align: middle;\n",
              "    }\n",
              "\n",
              "    .dataframe tbody tr th {\n",
              "        vertical-align: top;\n",
              "    }\n",
              "\n",
              "    .dataframe thead th {\n",
              "        text-align: right;\n",
              "    }\n",
              "</style>\n",
              "<table border=\"1\" class=\"dataframe\">\n",
              "  <thead>\n",
              "    <tr style=\"text-align: right;\">\n",
              "      <th></th>\n",
              "      <th>capital-world</th>\n",
              "      <th>currency</th>\n",
              "      <th>city-in-state</th>\n",
              "      <th>family</th>\n",
              "      <th>gram1-adjective-to-adverb</th>\n",
              "      <th>gram2-opposite</th>\n",
              "      <th>gram3-comparative</th>\n",
              "      <th>gram6-nationality-adjective</th>\n",
              "      <th>Overall</th>\n",
              "    </tr>\n",
              "  </thead>\n",
              "  <tbody>\n",
              "    <tr>\n",
              "      <th>glove-wiki-gigaword-300</th>\n",
              "      <td>0.95977</td>\n",
              "      <td>0.170792</td>\n",
              "      <td>0.593028</td>\n",
              "      <td>0.881423</td>\n",
              "      <td>0.225806</td>\n",
              "      <td>0.273399</td>\n",
              "      <td>0.881381</td>\n",
              "      <td>0.925578</td>\n",
              "      <td>0.719542</td>\n",
              "    </tr>\n",
              "    <tr>\n",
              "      <th>glove-wiki-gigaword-50</th>\n",
              "      <td>0.685013</td>\n",
              "      <td>0.0903465</td>\n",
              "      <td>0.153223</td>\n",
              "      <td>0.689723</td>\n",
              "      <td>0.152218</td>\n",
              "      <td>0.0948276</td>\n",
              "      <td>0.518018</td>\n",
              "      <td>0.860538</td>\n",
              "      <td>0.463718</td>\n",
              "    </tr>\n",
              "    <tr>\n",
              "      <th>word2vec-google-news-300</th>\n",
              "      <td>0.813187</td>\n",
              "      <td>0.284653</td>\n",
              "      <td>0.721119</td>\n",
              "      <td>0.86166</td>\n",
              "      <td>0.292339</td>\n",
              "      <td>0.434729</td>\n",
              "      <td>0.912913</td>\n",
              "      <td>0.901814</td>\n",
              "      <td>0.740145</td>\n",
              "    </tr>\n",
              "    <tr>\n",
              "      <th>glove-twitter-200</th>\n",
              "      <td>0.745678</td>\n",
              "      <td>0.0327511</td>\n",
              "      <td>0.356303</td>\n",
              "      <td>0.794737</td>\n",
              "      <td>0.126882</td>\n",
              "      <td>0.308333</td>\n",
              "      <td>0.742492</td>\n",
              "      <td>0.727421</td>\n",
              "      <td>0.566846</td>\n",
              "    </tr>\n",
              "    <tr>\n",
              "      <th>fasttext-wiki-news-subwords-300</th>\n",
              "      <td>0.97458</td>\n",
              "      <td>0.332921</td>\n",
              "      <td>0.833806</td>\n",
              "      <td>0.857708</td>\n",
              "      <td>0.703629</td>\n",
              "      <td>0.633005</td>\n",
              "      <td>0.96997</td>\n",
              "      <td>0.929331</td>\n",
              "      <td>0.882788</td>\n",
              "    </tr>\n",
              "  </tbody>\n",
              "</table>\n",
              "</div>"
            ],
            "text/plain": [
              "                                capital-world  ...   Overall\n",
              "glove-wiki-gigaword-300               0.95977  ...  0.719542\n",
              "glove-wiki-gigaword-50               0.685013  ...  0.463718\n",
              "word2vec-google-news-300             0.813187  ...  0.740145\n",
              "glove-twitter-200                    0.745678  ...  0.566846\n",
              "fasttext-wiki-news-subwords-300       0.97458  ...  0.882788\n",
              "\n",
              "[5 rows x 9 columns]"
            ]
          },
          "metadata": {
            "tags": []
          },
          "execution_count": 7
        }
      ]
    },
    {
      "cell_type": "markdown",
      "metadata": {
        "id": "gclaoEGi6T3c",
        "colab_type": "text"
      },
      "source": [
        "Part 3"
      ]
    },
    {
      "cell_type": "code",
      "metadata": {
        "id": "sVXCPIq16Yjr",
        "colab_type": "code",
        "colab": {
          "base_uri": "https://localhost:8080/",
          "height": 282
        },
        "outputId": "42d6e62f-9550-4265-beff-b5c899274460"
      },
      "source": [
        "def show_embeddings(data, labels):\n",
        "    plt.scatter(data[:, 0], data[:, 1], marker='o')\n",
        "\n",
        "    for label, x, y in zip(labels, data[:, 0], data[:, 1]):\n",
        "        plt.annotate(\n",
        "            label,\n",
        "            xy=(x, y), xytext=(-20, 20),\n",
        "            textcoords='offset points', ha='right', va='bottom',\n",
        "            bbox=dict(boxstyle='round,pad=0.5', fc='yellow', alpha=0.2),\n",
        "            arrowprops=dict(arrowstyle = '->', connectionstyle='arc3,rad=0'))\n",
        "\n",
        "# Testing        \n",
        "show_embeddings(np.array([[1, 2],[2, 3]]), [\"a\",\"b\"])"
      ],
      "execution_count": 8,
      "outputs": [
        {
          "output_type": "display_data",
          "data": {
            "image/png": "[encoded data removed]",
            "text/plain": [
              "<Figure size 432x288 with 1 Axes>"
            ]
          },
          "metadata": {
            "tags": []
          }
        }
      ]
    },
    {
      "cell_type": "code",
      "metadata": {
        "id": "wtMGWXO_6aui",
        "colab_type": "code",
        "colab": {}
      },
      "source": [
        "from sklearn.decomposition import TruncatedSVD\n",
        "\n",
        "def reduce_dim(model, number_of_vectors=10000, required_words=[\"car\"]):\n",
        "  '''\n",
        "  number_of_vectors: you should first truncate your model to only this number of vectors. Make sure to shuffle the model first, so that you choose random vectors.\n",
        "  required_words: in addition to the number_of_vectors vectors you keep, you should keep the vectors of these words.\n",
        "  Return the new, reduced model.\n",
        "  '''\n",
        "  words = list(model.vocab.keys())\n",
        "  np.random.shuffle(words)\n",
        "  X = []\n",
        "  for word in (words[:number_of_vectors] + required_words):\n",
        "    X.append(model.get_vector(word))\n",
        "    \n",
        "  X = np.asarray(X)\n",
        "  reducer  = TruncatedSVD(n_components = 2)\n",
        "  reducer.fit(X)\n",
        "  return reducer.transform(X)\n",
        "  "
      ],
      "execution_count": 0,
      "outputs": []
    },
    {
      "cell_type": "code",
      "metadata": {
        "id": "FEJhlmjP6yD9",
        "colab_type": "code",
        "colab": {
          "base_uri": "https://localhost:8080/",
          "height": 301
        },
        "outputId": "dab416a7-a708-46d5-a2de-ef129dfd295b"
      },
      "source": [
        "required_words = [\"aircraft\", \"ambulance\", \"bicycle\", \"bike\", \"boat\", \"car\", \"truck\", \"chopper\", \"canoe\", \"driver\", \"lorry\", \"suv\", \"train\",\n",
        "                  \"vehicle\", \"yacht\", \"apple\", \"banana\", \"orange\", \"tomato\", \"pepper\", \"watermelon\", \"grapes\", \"fruit\", \"fruits\", \"vegetables\"]\n",
        "model = load(\"glove-wiki-gigaword-50\")\n",
        "reduced_model = reduce_dim(model, number_of_vectors=10000, required_words=required_words)\n",
        "show_embeddings(reduced_model[10000:], required_words)\n",
        "del model"
      ],
      "execution_count": 10,
      "outputs": [
        {
          "output_type": "stream",
          "text": [
            "Loaded vocab size 400000\n"
          ],
          "name": "stdout"
        },
        {
          "output_type": "display_data",
          "data": {
            "image/png": "[encoded data removed]",
            "text/plain": [
              "<Figure size 432x288 with 1 Axes>"
            ]
          },
          "metadata": {
            "tags": []
          }
        }
      ]
    },
    {
      "cell_type": "markdown",
      "metadata": {
        "id": "xNFO2ViqCUhq",
        "colab_type": "text"
      },
      "source": [
        "Part 4 "
      ]
    },
    {
      "cell_type": "code",
      "metadata": {
        "id": "kFE7uRiSCWiD",
        "colab_type": "code",
        "colab": {
          "base_uri": "https://localhost:8080/",
          "height": 52
        },
        "outputId": "2eef02d3-4865-4cdb-e17b-286b6607ff34"
      },
      "source": [
        "from gensim.models import Word2Vec\n",
        "import nltk\n",
        "nltk.download('brown')\n",
        "from nltk.corpus import brown\n",
        "brown_w2v = Word2Vec(brown.sents())"
      ],
      "execution_count": 11,
      "outputs": [
        {
          "output_type": "stream",
          "text": [
            "[nltk_data] Downloading package brown to /root/nltk_data...\n",
            "[nltk_data]   Package brown is already up-to-date!\n"
          ],
          "name": "stdout"
        }
      ]
    },
    {
      "cell_type": "code",
      "metadata": {
        "id": "95TiKjp1cuRG",
        "colab_type": "code",
        "colab": {}
      },
      "source": [
        "def get_term_sentences(corpus, term):\n",
        "  res = []\n",
        "  for sentence in corpus.sents():\n",
        "    str_sent = ' '.join(sentence)\n",
        "    lowered_sent = str_sent.lower() \n",
        "    if term in lowered_sent:\n",
        "      res.append(str_sent)\n",
        "  return res\n",
        "  "
      ],
      "execution_count": 0,
      "outputs": []
    },
    {
      "cell_type": "code",
      "metadata": {
        "id": "lDlm78V9cwHh",
        "colab_type": "code",
        "colab": {}
      },
      "source": [
        "def get_word_vector(model_w2v, word):  \n",
        "  if word in model_w2v:\n",
        "    return model_w2v[word]\n",
        "  \n",
        "  if word.lower() in model_w2v:\n",
        "    return model_w2v[word.lower()]\n",
        "  \n",
        "  return None"
      ],
      "execution_count": 0,
      "outputs": []
    },
    {
      "cell_type": "code",
      "metadata": {
        "id": "XCZmFR12cyCE",
        "colab_type": "code",
        "colab": {}
      },
      "source": [
        "def get_neighbour_words(sentences, term, take_before):\n",
        "  res = []\n",
        "  for sentence in sentences:\n",
        "    words = sentence.split()\n",
        "    term_idx = [i for i, word in enumerate(words) if word == term]\n",
        "    for idx in term_idx:\n",
        "      if take_before:\n",
        "        if idx > 0:\n",
        "          res.append(words[idx - 1])\n",
        "        if idx > 1:\n",
        "          res.append(words[idx - 2])\n",
        "      elif not(take_before):\n",
        "        if idx < len(words) - 1:\n",
        "          res.append(words[idx+1])\n",
        "        if idx < len(words) - 2:\n",
        "          res.append(words[idx + 2])\n",
        "  return res"
      ],
      "execution_count": 0,
      "outputs": []
    },
    {
      "cell_type": "code",
      "metadata": {
        "id": "WRicC9RNcz83",
        "colab_type": "code",
        "colab": {
          "base_uri": "https://localhost:8080/",
          "height": 834
        },
        "outputId": "ff1c6bf9-c30e-46c3-e003-f36283492a7f"
      },
      "source": [
        "import numpy as np\n",
        "\n",
        "terms = [\"new york\", \"united states\"]\n",
        "for term in terms:\n",
        "  term_words = term.split()\n",
        "  sentences = get_term_sentences(brown, term)\n",
        "  neighbours = get_neighbour_words(sentences, term_words[0], True) + get_neighbour_words(sentences, term_words[1], False)\n",
        "  neighbours_vectors = []\n",
        "  for word in neighbours:\n",
        "    word_vec = get_word_vector(brown_w2v, word)\n",
        "    if word_vec is not None:\n",
        "      neighbours_vectors.append(word_vec)\n",
        "    \n",
        "  term_vec = np.array(neighbours_vectors)\n",
        "  print(f'{term} vector: {np.mean(term_vec, axis=0)}')"
      ],
      "execution_count": 15,
      "outputs": [
        {
          "output_type": "stream",
          "text": [
            "/usr/local/lib/python3.6/dist-packages/ipykernel_launcher.py:2: DeprecationWarning: Call to deprecated `__contains__` (Method will be removed in 4.0.0, use self.wv.__contains__() instead).\n",
            "  \n",
            "/usr/local/lib/python3.6/dist-packages/ipykernel_launcher.py:3: DeprecationWarning: Call to deprecated `__getitem__` (Method will be removed in 4.0.0, use self.wv.__getitem__() instead).\n",
            "  This is separate from the ipykernel package so we can avoid doing imports until\n"
          ],
          "name": "stderr"
        },
        {
          "output_type": "stream",
          "text": [
            "new york vector: [ 3.34989607e-01  5.64914227e-01 -1.44305333e-01  1.56526774e-01\n",
            "  6.57024264e-01  2.75223136e-01  3.56283098e-01 -6.40188158e-01\n",
            "  4.85986114e-01 -1.72656849e-01  1.92604095e-01  3.91145423e-02\n",
            "  4.42024171e-02 -3.50836903e-01 -3.97526741e-01 -7.81392395e-01\n",
            " -6.42768979e-01  3.87306325e-02 -7.44590640e-01 -5.86895943e-02\n",
            "  1.21778185e-02  1.18437357e-01 -4.28305507e-01 -1.10823534e-01\n",
            "  3.50057125e-01  6.58329576e-02  4.12525028e-01  1.02984890e-01\n",
            " -1.20813556e-01  6.22110963e-02 -1.20099032e+00 -2.34307706e-01\n",
            "  1.63111761e-01 -2.56523609e-01  9.38692465e-02 -3.60332578e-01\n",
            " -4.41046596e-01  5.56406677e-01  4.80155408e-01 -1.38404071e-01\n",
            "  9.16247666e-01  2.66403817e-02  2.04041421e-01  2.36374557e-01\n",
            "  6.57237321e-02  1.26647875e-01 -1.22255814e+00  2.21085608e-01\n",
            "  1.07814550e-01  1.62603781e-01  1.25294670e-01 -2.93105125e-01\n",
            " -2.09849086e-02 -1.00582898e-01  6.58373117e-01  1.48100816e-02\n",
            "  2.27458268e-01  2.60230452e-01  5.96789062e-01  4.79562134e-01\n",
            "  1.48616374e-01 -2.42011681e-01 -1.32829949e-01 -5.61416864e-01\n",
            " -1.88202605e-01 -4.31331754e-01 -3.76064211e-01 -1.09900571e-01\n",
            "  3.68028343e-01  7.17174351e-01  2.00559691e-01 -1.00252135e-02\n",
            "  4.64228511e-01  6.75685108e-01  1.80114329e-01 -4.38571237e-02\n",
            " -4.06713784e-02 -4.68034744e-01  8.03205729e-01  8.14535916e-02\n",
            "  4.68293190e-01 -9.68605280e-01  5.00564814e-01 -6.46629512e-01\n",
            " -8.58313520e-04  1.26842543e-01 -1.25424922e-01  3.10037136e-02\n",
            " -1.15105612e-02  2.32973173e-01  1.38340127e-02  2.99722761e-01\n",
            " -2.40269840e-01  5.24361312e-01  8.69610548e-01 -9.87546593e-02\n",
            " -4.02391404e-01  2.75291711e-01 -5.89988351e-01  3.70466560e-01]\n",
            "united states vector: [ 0.02553768  0.7735666   0.03454635 -0.6409296   0.41620022  0.2665873\n",
            "  0.23919092 -0.22723277  0.14530087 -0.32371277  0.50952846 -0.52205825\n",
            "  0.23014145  0.397261   -0.39275855  0.02287267 -0.22979736  0.37497073\n",
            " -0.7381934   0.53034604  0.23482417 -0.07862186 -0.36101013  0.53781754\n",
            "  0.6573976   0.5644015   0.51538086 -0.1870234  -0.04142536 -0.40078828\n",
            " -0.44195008 -0.43032464  0.2287516   0.1505793   0.01320884 -0.48474813\n",
            "  0.1814344   0.16738059  0.21135058  0.34161377  0.5943578   0.20081729\n",
            "  0.07764423 -0.318672    0.06386563  0.43442887 -1.122447    0.1626192\n",
            "  0.11712793  0.1965036  -0.11378984 -0.4050353   0.45920205 -0.18272994\n",
            "  0.4081861   0.44797194  0.14998783  1.1330156   0.377667    0.3026765\n",
            "  0.05652023  0.00607148 -0.14803985 -0.5345774   0.02601288 -0.4227324\n",
            " -0.49743602 -0.20384994 -0.3053126   0.7540269   0.43473035 -0.14945242\n",
            " -0.24422657  0.18658039 -0.3405277   0.53692764  0.13095492 -0.01968153\n",
            "  0.582967   -0.2845748  -0.52332443 -1.0032461   0.59072393 -0.4066025\n",
            " -0.09283476  0.05696582 -0.33955562  0.45181495  0.58827525  0.53244084\n",
            " -0.01008688  0.40446585  0.12176729 -0.01305976  0.16362074 -0.1069752\n",
            " -0.58987594  0.40711635 -0.81066453  0.741577  ]\n"
          ],
          "name": "stdout"
        }
      ]
    },
    {
      "cell_type": "code",
      "metadata": {
        "id": "qd3nvyJJc2lD",
        "colab_type": "code",
        "colab": {}
      },
      "source": [
        ""
      ],
      "execution_count": 0,
      "outputs": []
    }
  ]
}